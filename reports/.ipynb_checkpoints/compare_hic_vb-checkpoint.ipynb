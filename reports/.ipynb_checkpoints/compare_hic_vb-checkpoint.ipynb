{
 "cells": [
  {
   "cell_type": "code",
   "execution_count": 2,
   "id": "946648e0",
   "metadata": {
    "tags": []
   },
   "outputs": [
    {
     "name": "stderr",
     "output_type": "stream",
     "text": [
      "Warning message:\n",
      "“package ‘tidyverse’ was built under R version 4.2.3”\n",
      "Warning message:\n",
      "“package ‘ggplot2’ was built under R version 4.2.3”\n",
      "Warning message:\n",
      "“package ‘tibble’ was built under R version 4.2.3”\n",
      "Warning message:\n",
      "“package ‘tidyr’ was built under R version 4.2.3”\n",
      "Warning message:\n",
      "“package ‘readr’ was built under R version 4.2.3”\n",
      "Warning message:\n",
      "“package ‘purrr’ was built under R version 4.2.3”\n",
      "Warning message:\n",
      "“package ‘dplyr’ was built under R version 4.2.3”\n",
      "Warning message:\n",
      "“package ‘stringr’ was built under R version 4.2.3”\n",
      "Warning message:\n",
      "“package ‘forcats’ was built under R version 4.2.3”\n",
      "Warning message:\n",
      "“package ‘lubridate’ was built under R version 4.2.3”\n",
      "── \u001b[1mAttaching core tidyverse packages\u001b[22m ─────────────────────────────────────────────────────────────────────────────────────────────────────────── tidyverse 2.0.0 ──\n",
      "\u001b[32m✔\u001b[39m \u001b[34mdplyr    \u001b[39m 1.1.2     \u001b[32m✔\u001b[39m \u001b[34mreadr    \u001b[39m 2.1.4\n",
      "\u001b[32m✔\u001b[39m \u001b[34mforcats  \u001b[39m 1.0.0     \u001b[32m✔\u001b[39m \u001b[34mstringr  \u001b[39m 1.5.0\n",
      "\u001b[32m✔\u001b[39m \u001b[34mggplot2  \u001b[39m 3.4.2     \u001b[32m✔\u001b[39m \u001b[34mtibble   \u001b[39m 3.2.1\n",
      "\u001b[32m✔\u001b[39m \u001b[34mlubridate\u001b[39m 1.9.2     \u001b[32m✔\u001b[39m \u001b[34mtidyr    \u001b[39m 1.3.0\n",
      "\u001b[32m✔\u001b[39m \u001b[34mpurrr    \u001b[39m 1.0.1     \n",
      "── \u001b[1mConflicts\u001b[22m ───────────────────────────────────────────────────────────────────────────────────────────────────────────────────────────── tidyverse_conflicts() ──\n",
      "\u001b[31m✖\u001b[39m \u001b[34mdplyr\u001b[39m::\u001b[32mfilter()\u001b[39m masks \u001b[34mstats\u001b[39m::filter()\n",
      "\u001b[31m✖\u001b[39m \u001b[34mdplyr\u001b[39m::\u001b[32mlag()\u001b[39m    masks \u001b[34mstats\u001b[39m::lag()\n",
      "\u001b[36mℹ\u001b[39m Use the conflicted package (\u001b[3m\u001b[34m<http://conflicted.r-lib.org/>\u001b[39m\u001b[23m) to force all conflicts to become errors\n"
     ]
    }
   ],
   "source": [
    "library(tidyverse)"
   ]
  },
  {
   "cell_type": "code",
   "execution_count": 3,
   "id": "1cc3a13d",
   "metadata": {
    "tags": []
   },
   "outputs": [],
   "source": [
    "files_hic <- c(\n",
    "    \"/home5/attilio/Tarcisio/smallrna_rhodnius_2023/results/mapping/egg1.sorted.counts.tsv\",\n",
    "    \"/home5/attilio/Tarcisio/smallrna_rhodnius_2023/results/mapping/egg2.sorted.counts.tsv\",\n",
    "    \"/home5/attilio/Tarcisio/smallrna_rhodnius_2023/results/mapping/emb1.sorted.counts.tsv\",\n",
    "    \"/home5/attilio/Tarcisio/smallrna_rhodnius_2023/results/mapping/emb2.sorted.counts.tsv\",\n",
    "    \"/home5/attilio/Tarcisio/smallrna_rhodnius_2023/results/mapping/nym1.sorted.counts.tsv\",\n",
    "    \"/home5/attilio/Tarcisio/smallrna_rhodnius_2023/results/mapping/nym2.sorted.counts.tsv\",\n",
    "    \"/home5/attilio/Tarcisio/smallrna_rhodnius_2023/results/mapping/pvs1.sorted.counts.tsv\",\n",
    "    \"/home5/attilio/Tarcisio/smallrna_rhodnius_2023/results/mapping/pvs2.sorted.counts.tsv\"\n",
    "    )\n",
    "files_vb <- c(\n",
    "    \"/home5/attilio/Tarcisio/smallrna_rhodnius_2023/results/mapping_VB/egg1.sorted.counts.tsv\",\n",
    "    \"/home5/attilio/Tarcisio/smallrna_rhodnius_2023/results/mapping_VB/egg2.sorted.counts.tsv\",\n",
    "    \"/home5/attilio/Tarcisio/smallrna_rhodnius_2023/results/mapping_VB/emb1.sorted.counts.tsv\",\n",
    "    \"/home5/attilio/Tarcisio/smallrna_rhodnius_2023/results/mapping_VB/emb2.sorted.counts.tsv\",\n",
    "    \"/home5/attilio/Tarcisio/smallrna_rhodnius_2023/results/mapping_VB/nym1.sorted.counts.tsv\",\n",
    "    \"/home5/attilio/Tarcisio/smallrna_rhodnius_2023/results/mapping_VB/nym2.sorted.counts.tsv\",\n",
    "    \"/home5/attilio/Tarcisio/smallrna_rhodnius_2023/results/mapping_VB/pvs1.sorted.counts.tsv\",\n",
    "    \"/home5/attilio/Tarcisio/smallrna_rhodnius_2023/results/mapping_VB/pvs2.sorted.counts.tsv\"\n",
    "    )"
   ]
  },
  {
   "cell_type": "code",
   "execution_count": 19,
   "id": "be20da6c",
   "metadata": {
    "tags": []
   },
   "outputs": [
    {
     "ename": "ERROR",
     "evalue": "Error in hic(.): could not find function \"hic\"\n",
     "output_type": "error",
     "traceback": [
      "Error in hic(.): could not find function \"hic\"\nTraceback:\n",
      "1. lapply(files_hic, function(x) {\n .     x <- str_split(\"/home5/attilio/Tarcisio/smallrna_rhodnius_2023/results/mapping/nym2.sorted.counts.tsv\", \n .         \"/\")\n .     x <- x[[1]][length(x[[1]])]\n .     x <- str_replace(x, \".sorted.counts.tsv\", \"\")\n .     read_tsv(x, col_names = FALSE)\n . }) %>% hic"
     ]
    }
   ],
   "source": [
    "hic <- lapply(files_hic, function(x){\n",
    "    sample <- str_split(x, \"/\")\n",
    "    sample <- sample[[1]][length(sample[[1]])]\n",
    "    sample <- str_replace(x, \".sorted.counts.tsv\", \"\")\n",
    "    read_tsv(x, col_names = FALSE)}) %>% mutate()\n",
    "    \n",
    "hic\n",
    "# vb <- lapply(files_vb, function(x){read_tsv(x, col_names = FALSE)}) %>% suppressMessages()"
   ]
  },
  {
   "cell_type": "code",
   "execution_count": 9,
   "id": "59dbefd2",
   "metadata": {},
   "outputs": [
    {
     "data": {
      "image/png": "[encoded data removed]",
      "text/plain": [
       "plot without title"
      ]
     },
     "metadata": {
      "image/png": {
       "height": 420,
       "width": 420
      }
     },
     "output_type": "display_data"
    }
   ],
   "source": [
    "ggplot(hic[[1]], aes(X1, X2)) + geom_col()"
   ]
  },
  {
   "cell_type": "code",
   "execution_count": 18,
   "id": "74f0a01a",
   "metadata": {
    "tags": []
   },
   "outputs": [
    {
     "data": {
      "text/html": [
       "'nym2'"
      ],
      "text/latex": [
       "'nym2'"
      ],
      "text/markdown": [
       "'nym2'"
      ],
      "text/plain": [
       "[1] \"nym2\""
      ]
     },
     "metadata": {},
     "output_type": "display_data"
    }
   ],
   "source": []
  },
  {
   "cell_type": "code",
   "execution_count": null,
   "id": "70002246",
   "metadata": {},
   "outputs": [],
   "source": []
  },
  {
   "cell_type": "code",
   "execution_count": null,
   "id": "b90c08c3",
   "metadata": {},
   "outputs": [],
   "source": []
  },
  {
   "cell_type": "code",
   "execution_count": null,
   "id": "bbc6c9a5",
   "metadata": {},
   "outputs": [],
   "source": []
  },
  {
   "cell_type": "code",
   "execution_count": null,
   "id": "220a2195",
   "metadata": {},
   "outputs": [],
   "source": []
  },
  {
   "cell_type": "code",
   "execution_count": null,
   "id": "6fa1fa22",
   "metadata": {},
   "outputs": [],
   "source": []
  },
  {
   "cell_type": "code",
   "execution_count": null,
   "id": "6115dba7",
   "metadata": {},
   "outputs": [],
   "source": []
  }
 ],
 "metadata": {
  "kernelspec": {
   "display_name": "R 4.2 (smallrna)",
   "language": "R",
   "name": "ir42"
  },
  "language_info": {
   "codemirror_mode": "r",
   "file_extension": ".r",
   "mimetype": "text/x-r-source",
   "name": "R",
   "pygments_lexer": "r",
   "version": "4.2.0"
  }
 },
 "nbformat": 4,
 "nbformat_minor": 5
}
